{
 "cells": [
  {
   "cell_type": "code",
   "execution_count": 249,
   "id": "410140cf-02cf-4631-a0ab-8ca966801c96",
   "metadata": {},
   "outputs": [],
   "source": [
    "import serial\n",
    "import matplotlib.pyplot as plt\n",
    "from matplotlib.animation import FuncAnimation\n",
    "import numpy as np\n",
    "import time"
   ]
  },
  {
   "cell_type": "code",
   "execution_count": 251,
   "id": "83567107-5e1f-449a-9d47-c614b8d57f36",
   "metadata": {},
   "outputs": [],
   "source": [
    "ser = serial.Serial('/dev/cu.usbmodem1103', 115200)"
   ]
  },
  {
   "cell_type": "code",
   "execution_count": 253,
   "id": "13b5f1fe-f64b-4292-8981-968f9467c605",
   "metadata": {},
   "outputs": [],
   "source": [
    "def update():\n",
    "    line = ser.readline().decode('utf-8').strip()\n",
    "    return line"
   ]
  },
  {
   "cell_type": "code",
   "execution_count": 330,
   "id": "aeff0827-c600-460c-9a25-d058a0c370f3",
   "metadata": {},
   "outputs": [
    {
     "name": "stdout",
     "output_type": "stream",
     "text": [
      "Accelero X: -17 Y: -11 Z: 1025\n",
      "Accelero X: -18 Y: -12 Z: 1029\n",
      "Accelero X: -18 Y: -11 Z: 1029\n",
      "Accelero X: -18 Y: -12 Z: 1026\n",
      "Accelero X: -18 Y: -11 Z: 1029\n",
      "Accelero X: -17 Y: -10 Z: 1029\n",
      "Accelero X: -18 Y: -12 Z: 1025\n",
      "Accelero X: -18 Y: -11 Z: 1029\n",
      "Accelero X: -18 Y: -11 Z: 1027\n",
      "Accelero X: -18 Y: -12 Z: 1026\n",
      "Accelero X: -17 Y: -12 Z: 1029\n",
      "Accelero X: -17 Y: -11 Z: 1027\n",
      "Accelero X: -18 Y: -12 Z: 1026\n",
      "Accelero X: -18 Y: -11 Z: 1028\n",
      "Accelero X: -18 Y: -11 Z: 1028\n",
      "Accelero X: -17 Y: -12 Z: 1026\n",
      "Accelero X: -17 Y: -12 Z: 1028\n",
      "Accelero X: -18 Y: -11 Z: 1028\n",
      "Accelero X: -18 Y: -11 Z: 1024\n",
      "Accelero X: -18 Y: -11 Z: 1029\n",
      "Accelero X: -17 Y: -11 Z: 1029\n",
      "Accelero X: -18 Y: -11 Z: 1025\n",
      "Accelero X: -18 Y: -11 Z: 1028\n",
      "Accelero X: -18 Y: -12 Z: 1027\n",
      "Accelero X: -17 Y: -12 Z: 1025\n",
      "Accelero X: -17 Y: -12 Z: 1028\n",
      "Accelero X: -18 Y: -12 Z: 1026\n",
      "Accelero X: 1998 Y: -69 Z: 813\n",
      "Accelero X: 15 Y: -67 Z: 1026\n",
      "Accelero X: -264 Y: -797 Z: 192\n",
      "Accelero X: -16 Y: -11 Z: 1028\n",
      "Accelero X: -17 Y: -11 Z: 1028\n",
      "Accelero X: -17 Y: -11 Z: 1027\n",
      "Accelero X: -34 Y: -16 Z: 1020\n",
      "Accelero X: -9 Y: -15 Z: 1028\n",
      "Accelero X: -9 Y: -15 Z: 1025\n",
      "Accelero X: -9 Y: -15 Z: 1028\n",
      "Accelero X: -9 Y: -15 Z: 1028\n",
      "Accelero X: -9 Y: -14 Z: 1028\n",
      "Accelero X: -10 Y: -14 Z: 1028\n",
      "Accelero X: -9 Y: -14 Z: 1029\n",
      "Accelero X: -9 Y: -15 Z: 1027\n",
      "Accelero X: -10 Y: -14 Z: 1029\n",
      "Accelero X: -9 Y: -14 Z: 1028\n",
      "Accelero X: -9 Y: -16 Z: 1028\n",
      "Accelero X: -9 Y: -15 Z: 1029\n",
      "Accelero X: -9 Y: -15 Z: 1028\n",
      "Accelero X: -9 Y: -14 Z: 1029\n",
      "Accelero X: -9 Y: -14 Z: 1028\n",
      "Accelero X: -10 Y: -14 Z: 1029\n",
      "Accelero X: -9 Y: -14 Z: 1027\n",
      "Accelero X: -10 Y: -15 Z: 1029\n",
      "Accelero X: -9 Y: -14 Z: 1027\n",
      "Accelero X: -10 Y: -14 Z: 1027\n",
      "Accelero X: -9 Y: -14 Z: 1029\n",
      "Accelero X: -10 Y: -14 Z: 1029\n",
      "Accelero X: -9 Y: -15 Z: 1029\n",
      "Accelero X: -10 Y: -15 Z: 1029\n",
      "Accelero X: -9 Y: -14 Z: 1028\n",
      "Accelero X: -9 Y: -15 Z: 1027\n",
      "Accelero X: -9 Y: -15 Z: 1029\n",
      "Accelero X: -9 Y: -14 Z: 1029\n",
      "Accelero X: -9 Y: -14 Z: 1026\n",
      "Accelero X: -10 Y: -14 Z: 1029\n",
      "Accelero X: -9 Y: -14 Z: 1028\n",
      "Accelero X: -9 Y: -14 Z: 1029\n",
      "Accelero X: -9 Y: -14 Z: 1028\n",
      "Accelero X: -10 Y: -15 Z: 1027\n",
      "Accelero X: -10 Y: -15 Z: 1027\n",
      "Accelero X: 203 Y: -372 Z: 940\n",
      "Accelero X: 203 Y: -376 Z: 940\n",
      "Accelero X: 201 Y: -373 Z: 939\n"
     ]
    },
    {
     "ename": "KeyboardInterrupt",
     "evalue": "",
     "output_type": "error",
     "traceback": [
      "\u001b[0;31m---------------------------------------------------------------------------\u001b[0m",
      "\u001b[0;31mKeyboardInterrupt\u001b[0m                         Traceback (most recent call last)",
      "Cell \u001b[0;32mIn[330], line 2\u001b[0m\n\u001b[1;32m      1\u001b[0m \u001b[38;5;28;01mfor\u001b[39;00m i \u001b[38;5;129;01min\u001b[39;00m \u001b[38;5;28mrange\u001b[39m(\u001b[38;5;241m100\u001b[39m):\n\u001b[0;32m----> 2\u001b[0m     \u001b[38;5;28mprint\u001b[39m(update())\n",
      "Cell \u001b[0;32mIn[253], line 2\u001b[0m, in \u001b[0;36mupdate\u001b[0;34m()\u001b[0m\n\u001b[1;32m      1\u001b[0m \u001b[38;5;28;01mdef\u001b[39;00m \u001b[38;5;21mupdate\u001b[39m():\n\u001b[0;32m----> 2\u001b[0m     line \u001b[38;5;241m=\u001b[39m ser\u001b[38;5;241m.\u001b[39mreadline()\u001b[38;5;241m.\u001b[39mdecode(\u001b[38;5;124m'\u001b[39m\u001b[38;5;124mutf-8\u001b[39m\u001b[38;5;124m'\u001b[39m)\u001b[38;5;241m.\u001b[39mstrip()\n\u001b[1;32m      3\u001b[0m     \u001b[38;5;28;01mreturn\u001b[39;00m line\n",
      "File \u001b[0;32m~/anaconda3/lib/python3.12/site-packages/serial/serialposix.py:565\u001b[0m, in \u001b[0;36mSerial.read\u001b[0;34m(self, size)\u001b[0m\n\u001b[1;32m    563\u001b[0m \u001b[38;5;28;01mwhile\u001b[39;00m \u001b[38;5;28mlen\u001b[39m(read) \u001b[38;5;241m<\u001b[39m size:\n\u001b[1;32m    564\u001b[0m     \u001b[38;5;28;01mtry\u001b[39;00m:\n\u001b[0;32m--> 565\u001b[0m         ready, _, _ \u001b[38;5;241m=\u001b[39m select\u001b[38;5;241m.\u001b[39mselect([\u001b[38;5;28mself\u001b[39m\u001b[38;5;241m.\u001b[39mfd, \u001b[38;5;28mself\u001b[39m\u001b[38;5;241m.\u001b[39mpipe_abort_read_r], [], [], timeout\u001b[38;5;241m.\u001b[39mtime_left())\n\u001b[1;32m    566\u001b[0m         \u001b[38;5;28;01mif\u001b[39;00m \u001b[38;5;28mself\u001b[39m\u001b[38;5;241m.\u001b[39mpipe_abort_read_r \u001b[38;5;129;01min\u001b[39;00m ready:\n\u001b[1;32m    567\u001b[0m             os\u001b[38;5;241m.\u001b[39mread(\u001b[38;5;28mself\u001b[39m\u001b[38;5;241m.\u001b[39mpipe_abort_read_r, \u001b[38;5;241m1000\u001b[39m)\n",
      "\u001b[0;31mKeyboardInterrupt\u001b[0m: "
     ]
    }
   ],
   "source": [
    "for i in range(100):\n",
    "    print(update())"
   ]
  },
  {
   "cell_type": "code",
   "execution_count": 322,
   "id": "a5aff18a-b586-4cfe-8ab8-5e88d392e42b",
   "metadata": {},
   "outputs": [],
   "source": [
    "nsample = 25\n",
    "data = np.zeros((nsample,3))"
   ]
  },
  {
   "cell_type": "code",
   "execution_count": 324,
   "id": "44f70647-8e12-4b3a-98d7-7fc50a7288a7",
   "metadata": {},
   "outputs": [],
   "source": [
    "for idx in range(nsample):\n",
    "    s = update().split()\n",
    "    data[idx, :] = [int(s[i]) for i in [2,4,6]]"
   ]
  },
  {
   "cell_type": "code",
   "execution_count": 326,
   "id": "34aaead9-bf8c-4745-ab5c-ecf55550ee37",
   "metadata": {},
   "outputs": [
    {
     "data": {
      "text/plain": [
       "[<matplotlib.lines.Line2D at 0x14939e6f0>]"
      ]
     },
     "execution_count": 326,
     "metadata": {},
     "output_type": "execute_result"
    },
    {
     "data": {
      "image/png": "[encoded data removed]",
      "text/plain": [
       "<Figure size 640x480 with 1 Axes>"
      ]
     },
     "metadata": {},
     "output_type": "display_data"
    }
   ],
   "source": [
    "plt.plot(data[:,0], 'bo')\n",
    "plt.plot(data[:,1], 'go')\n",
    "plt.plot(data[:,2], 'ro')"
   ]
  },
  {
   "cell_type": "code",
   "execution_count": null,
   "id": "b19468ed-949f-4079-9921-2dca868de653",
   "metadata": {},
   "outputs": [],
   "source": []
  }
 ],
 "metadata": {
  "kernelspec": {
   "display_name": "Python 3 (ipykernel)",
   "language": "python",
   "name": "python3"
  },
  "language_info": {
   "codemirror_mode": {
    "name": "ipython",
    "version": 3
   },
   "file_extension": ".py",
   "mimetype": "text/x-python",
   "name": "python",
   "nbconvert_exporter": "python",
   "pygments_lexer": "ipython3",
   "version": "3.12.4"
  }
 },
 "nbformat": 4,
 "nbformat_minor": 5
}
